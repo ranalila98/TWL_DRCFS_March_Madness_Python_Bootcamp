{
 "cells": [
  {
   "cell_type": "code",
   "execution_count": 1,
   "metadata": {},
   "outputs": [],
   "source": [
    "class Person:\n",
    "    def __init__(self, name, age, gender, nationality):\n",
    "        self.name= name\n",
    "        self.age= age\n",
    "        self.gender= gender\n",
    "        self.nationality= nationality\n",
    "\n",
    "    def do_greet(self):\n",
    "        print(f\"Hi, I am {self.name}. Nice to meet you\") \n",
    "\n",
    "    def do_introduction(self):\n",
    "        print(f\"I am {self.name} and {self.age} years old. I am a {self.nationality}.\")\n",
    "\n",
    "    def get_annual_income(self):\n",
    "        return 0\n",
    "\n",
    "\n",
    "class Employee1(Person):\n",
    "    def __init__(self, name, age, gender, nationality, office, position, salary):\n",
    "        super().__init__(name, age, gender, nationality=\"Nepali\")\n",
    "        self.office= office\n",
    "        self.position=position\n",
    "        self.salary=salary\n",
    "\n",
    "    def get_annual_income(self):\n",
    "        return (12*self.salary)\n",
    "\n",
    "\n",
    "class Employee2(Person):\n",
    "    def __init__(self, name, age, gender, nationality, office, position, salary):\n",
    "        super().__init__(name, age, gender, nationality=\"Foreigner\")\n",
    "        self.office= office\n",
    "        self.position=position\n",
    "        self.salary=salary\n",
    "\n",
    "    def get_annual_income(self):\n",
    "        return (12*self.salary)\n"
   ]
  },
  {
   "cell_type": "code",
   "execution_count": 2,
   "metadata": {},
   "outputs": [],
   "source": [
    "employee1 = Employee1(\"XYZ\", 30, \"female\", \"Nepal\", \"NTA\",\"Deputy Manager\", 1000)\n",
    "employee2 = Employee2(\"ABC\", 35, \"male\", \"India\", \"NOKIA\",\"General Manager\", 100000)"
   ]
  },
  {
   "cell_type": "code",
   "execution_count": 3,
   "metadata": {},
   "outputs": [
    {
     "name": "stdout",
     "output_type": "stream",
     "text": [
      "Hi, I am XYZ. Nice to meet you\n",
      "Hi, I am ABC. Nice to meet you\n"
     ]
    }
   ],
   "source": [
    "employee1.do_greet()\n",
    "employee2.do_greet()"
   ]
  },
  {
   "cell_type": "code",
   "execution_count": 4,
   "metadata": {},
   "outputs": [
    {
     "name": "stdout",
     "output_type": "stream",
     "text": [
      "I am XYZ and 30 years old. I am a Nepali.\n",
      "I am ABC and 35 years old. I am a Foreigner.\n"
     ]
    }
   ],
   "source": [
    "employee1.do_introduction()\n",
    "employee2.do_introduction()"
   ]
  },
  {
   "cell_type": "code",
   "execution_count": 5,
   "metadata": {},
   "outputs": [
    {
     "name": "stdout",
     "output_type": "stream",
     "text": [
      "Annual Income of Employee 1 in dollar: 12000\n",
      "Annual Income in Employee 2 in dollar : 1200000\n"
     ]
    }
   ],
   "source": [
    "a=employee1.get_annual_income()\n",
    "b=employee2.get_annual_income()\n",
    "print('Annual Income of Employee 1 in dollar:',a)\n",
    "print('Annual Income in Employee 2 in dollar :',b)"
   ]
  },
  {
   "cell_type": "code",
   "execution_count": null,
   "metadata": {},
   "outputs": [],
   "source": []
  }
 ],
 "metadata": {
  "kernelspec": {
   "display_name": "base",
   "language": "python",
   "name": "python3"
  },
  "language_info": {
   "codemirror_mode": {
    "name": "ipython",
    "version": 3
   },
   "file_extension": ".py",
   "mimetype": "text/x-python",
   "name": "python",
   "nbconvert_exporter": "python",
   "pygments_lexer": "ipython3",
   "version": "3.9.13"
  },
  "orig_nbformat": 4
 },
 "nbformat": 4,
 "nbformat_minor": 2
}
