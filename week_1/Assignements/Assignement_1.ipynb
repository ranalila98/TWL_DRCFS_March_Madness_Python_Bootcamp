{
 "cells": [
  {
   "cell_type": "code",
   "execution_count": 49,
   "metadata": {},
   "outputs": [],
   "source": [
    "class Person:\n",
    "    def __init__(self, name, age, gender, nationality):\n",
    "        self.name= name\n",
    "        self.age= age\n",
    "        self.gender= gender\n",
    "        self.nationality= nationality\n",
    "\n",
    "    def do_greet(self):\n",
    "        print(f\"Hi, I am {self.name}. Nice to meet you\") \n",
    "\n",
    "    def do_introduction(self):\n",
    "        print(f\"I am {self.name} and {self.age} years old. I am a {self.nationality}.\")\n",
    "\n",
    "    def get_annual_income(self):\n",
    "        return f\"{self.name} makes annual income in dollar is.\"\n",
    "\n",
    "\n",
    "class Employee1(Person):\n",
    "    def __init__(self, name, age, gender, nationality, office, position, salary):\n",
    "        super().__init__(name, age, gender, nationality=\"Nepali\")\n",
    "        self.office= office\n",
    "        self.position=position\n",
    "        self.salary=salary\n",
    "\n",
    "    def get_annual_income(self):\n",
    "        return f\"Annual Income of {self.nationality} in dollar: {12*self.salary}\"\n",
    "\n",
    "\n",
    "class Employee2(Person):\n",
    "    def __init__(self, name, age, gender, nationality, office, position, salary):\n",
    "        super().__init__(name, age, gender, nationality=\"Foreigner\")\n",
    "        self.office= office\n",
    "        self.position=position\n",
    "        self.salary=salary\n",
    "\n",
    "    def get_annual_income(self):\n",
    "        return f\"Annual Income of {self.nationality} in dollar: {12*self.salary}\""
   ]
  },
  {
   "cell_type": "code",
   "execution_count": 50,
   "metadata": {},
   "outputs": [],
   "source": [
    "Nepali = Employee1(\"XYZ\", 30, \"female\", \"Nepal\", \"NTA\",\"Deputy Manager\", 1000)\n",
    "Foreigner = Employee2(\"ABC\", 35, \"male\", \"India\", \"NOKIA\",\"General Manager\", 100000)"
   ]
  },
  {
   "cell_type": "code",
   "execution_count": 54,
   "metadata": {},
   "outputs": [
    {
     "name": "stdout",
     "output_type": "stream",
     "text": [
      "Annual Income of Nepali in dollar: 12000\n",
      "Annual Income of Foreigner in dollar: 1200000\n"
     ]
    }
   ],
   "source": [
    "def annual_salary(person):\n",
    "    return person.get_annual_income()\n",
    "\n",
    "print(annual_salary(Nepali))\n",
    "print(annual_salary(Foreigner))"
   ]
  },
  {
   "cell_type": "code",
   "execution_count": 52,
   "metadata": {},
   "outputs": [
    {
     "name": "stdout",
     "output_type": "stream",
     "text": [
      "Hi, I am XYZ. Nice to meet you\n",
      "Hi, I am ABC. Nice to meet you\n"
     ]
    }
   ],
   "source": [
    "Nepali.do_greet()\n",
    "Foreigner.do_greet()"
   ]
  },
  {
   "cell_type": "code",
   "execution_count": 53,
   "metadata": {},
   "outputs": [
    {
     "name": "stdout",
     "output_type": "stream",
     "text": [
      "I am XYZ and 30 years old. I am a Nepali.\n",
      "I am ABC and 35 years old. I am a Foreigner.\n"
     ]
    }
   ],
   "source": [
    "Nepali.do_introduction()\n",
    "Foreigner.do_introduction()"
   ]
  },
  {
   "cell_type": "code",
   "execution_count": null,
   "metadata": {},
   "outputs": [],
   "source": []
  }
 ],
 "metadata": {
  "kernelspec": {
   "display_name": "base",
   "language": "python",
   "name": "python3"
  },
  "language_info": {
   "codemirror_mode": {
    "name": "ipython",
    "version": 3
   },
   "file_extension": ".py",
   "mimetype": "text/x-python",
   "name": "python",
   "nbconvert_exporter": "python",
   "pygments_lexer": "ipython3",
   "version": "3.9.13"
  },
  "orig_nbformat": 4
 },
 "nbformat": 4,
 "nbformat_minor": 2
}
