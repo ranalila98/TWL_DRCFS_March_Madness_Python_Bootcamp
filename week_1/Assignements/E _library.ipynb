{
 "cells": [
  {
   "cell_type": "code",
   "execution_count": 229,
   "metadata": {},
   "outputs": [],
   "source": [
    "class Book:\n",
    "    def __init__(self, title, author, isbn, available_copies):\n",
    "        self.title = title\n",
    "        self.author = author\n",
    "        self.isbn = isbn\n",
    "        self.__available_copies = available_copies\n",
    "\n",
    "    @property\n",
    "    def available_copies(self):\n",
    "        return self.__available_copies\n",
    "    \n",
    "    def borrow_book(self):\n",
    "        if self.__available_copies > 0:\n",
    "            self.__available_copies -= 1\n",
    "            return True\n",
    "        else:\n",
    "            return False\n",
    "    \n",
    "    def return_book(self):\n",
    "        self.__available_copies += 1\n",
    "    \n",
    "    def __str__(self):\n",
    "        return f\"Title: {self.title}, Author: {self.author}, ISBN: {self.isbn}, Available Copies: {self.available_copies}\"\n",
    "    \n",
    "    def __repr__(self):\n",
    "        return f\"Book(title={self.title}, Author={self.author}, ISBN={self.isbn}, Available_copies={self.available_copies})\"\n",
    "    \n",
    "    @property\n",
    "    def available_copies_percentage(self):\n",
    "        return (self.__available_copies / self.available_copies) * 100\n",
    "\n"
   ]
  },
  {
   "cell_type": "code",
   "execution_count": 230,
   "metadata": {},
   "outputs": [],
   "source": [
    "class Library:\n",
    "    def __init__(self):\n",
    "        self.books = []\n",
    "        self.members = []\n",
    "    \n",
    "    def add_book(self, book):\n",
    "        self.books.append(book)\n",
    "    \n",
    "    def remove_book(self, book):\n",
    "        self.books.remove(book)\n",
    "    \n",
    "    def register_member(self, member):\n",
    "        self.members.append(member)\n",
    "    \n",
    "    def unregister_member(self, member):\n",
    "        self.members.remove(member)\n",
    "    \n",
    "    def search_books(self, query):\n",
    "        results = []\n",
    "        for book in self.books:\n",
    "            if query.lower() in book.title.lower() or query.lower() in book.author.lower():\n",
    "                results.append(book)\n",
    "        return results\n",
    "    \n",
    "    def __str__(self):\n",
    "        return f\"Books: {len(self.books)}, Members: {len(self.members)}\"\n",
    "    \n",
    "    def __repr__(self):\n",
    "        return f\"Library(books={len(self.books)}, members={len(self.members)})\"\n",
    "\n"
   ]
  },
  {
   "cell_type": "code",
   "execution_count": 231,
   "metadata": {},
   "outputs": [],
   "source": [
    "class Member:\n",
    "    def __init__(self, name, email):\n",
    "        self.name = name\n",
    "        self.email = email\n",
    "        self.borrowed_books = []\n",
    "    \n",
    "    def borrow_book(self, book):\n",
    "        if book.borrow_book():\n",
    "            self.borrowed_books.append(book)\n",
    "            return True\n",
    "        else:\n",
    "            return False\n",
    "    \n",
    "    def return_book(self, book):\n",
    "        if book in self.borrowed_books:\n",
    "            book.return_book()\n",
    "            self.borrowed_books.remove(book)\n",
    "    \n",
    "    def __str__(self):\n",
    "        return f\"Name: {self.name}, Email: {self.email}, Borrowed Books: {len(self.borrowed_books)}\"\n",
    "    \n",
    "    def __repr__(self):\n",
    "        return f\"Member(name={self.name}, email={self.email}, borrowed_books={len(self.borrowed_books)})\"\n",
    "  \n"
   ]
  },
  {
   "cell_type": "code",
   "execution_count": 232,
   "metadata": {},
   "outputs": [],
   "source": [
    "import datetime\n",
    "class Transaction:\n",
    "    def __init__(self, book, member, timestamp):\n",
    "        self.book = book\n",
    "        self.member = member\n",
    "        self.timestamp = timestamp\n",
    "\n",
    "    def __str__(self):\n",
    "        transaction_type = \"borrowed\" if self.book in self.member.borrowed_books else \"returned\"\n",
    "        return f\"{self.member.name} {transaction_type} {self.book.title} on {self.timestamp}\"\n",
    "    \n",
    "    def __repr__(self):\n",
    "        transaction_type = \"borrowed\" if self.book in self.member.borrowed_books else \"returned\"\n",
    "        return f\"{self.member.name} {transaction_type} {self.book.title} on {self.timestamp}\"\n",
    "\n",
    "    @staticmethod\n",
    "    def create_transaction(book, member, is_borrowing=True):\n",
    "        if is_borrowing:\n",
    "            member.borrow_book(book)\n",
    "        else:\n",
    "            member.return_book(book)\n",
    "        return Transaction(book, member, datetime.datetime.now())\n",
    "\n",
    "    @classmethod\n",
    "    def transactions_within_date_range(cls, transactions, start_date, end_date):\n",
    "        results = []\n",
    "        for transaction in transactions:\n",
    "            if start_date <= transaction.timestamp <= end_date:\n",
    "                results.append(transaction)\n",
    "        return results\n"
   ]
  },
  {
   "cell_type": "code",
   "execution_count": 233,
   "metadata": {},
   "outputs": [],
   "source": [
    "class FictionBook(Book):\n",
    "    def __init__(self, title, author, isbn, available_copies, genre):\n",
    "        super().__init__(title, author, isbn, available_copies)\n",
    "        self.genre = genre\n",
    "\n",
    "\n",
    "class NonFictionBook(Book):\n",
    "    def __init__(self, title, author, isbn, available_copies, subject):\n",
    "        super().__init__(title, author, isbn, available_copies)\n",
    "        self.subject = subject\n",
    "\n",
    "\n",
    "class Textbook(Book):\n",
    "    def __init__(self, title, author, isbn, available_copies, subject, edition):\n",
    "        super().__init__(title, author, isbn, available_copies)\n",
    "        self.subject = subject\n",
    "        self.edition = edition\n",
    "\n",
    "    def __str__(self):\n",
    "        return f\"{self._title} by {self._author} ({self.edition} edition)\""
   ]
  },
  {
   "cell_type": "code",
   "execution_count": 234,
   "metadata": {},
   "outputs": [],
   "source": [
    "# Creating Book objects\n",
    "book1 = Book(\"Muna Madan\", \"Laxmi Parsad Devkota\", \"984709898092\", 100)\n",
    "book2 = Book(\"Parijaat\", \"Jhamak Kumari Ghimire\", \"98456789845\", 300)\n",
    "book3 = Book(\"Summer Love\", \"Subin Bhattarai\", \"9780451524935\", 200)"
   ]
  },
  {
   "cell_type": "code",
   "execution_count": 235,
   "metadata": {},
   "outputs": [],
   "source": [
    "# Creating Library object and adding books\n",
    "library = Library()\n",
    "library.add_book(book1)\n",
    "library.add_book(book2)\n",
    "library.add_book(book3)"
   ]
  },
  {
   "cell_type": "code",
   "execution_count": 236,
   "metadata": {},
   "outputs": [],
   "source": [
    "# Creating Member objects and registering with the library\n",
    "member1 = Member(\"ABC\", \"abc@gmail.com\")\n",
    "member2 = Member(\"XYZ\", \"xyz@gmail.com\")\n",
    "member3= Member(\"MNOP\",\"mnop@gmail.com\")\n",
    "member4= Member(\"1234\",\"1234@gmail.com\")\n",
    "library.register_member(member1)\n",
    "library.register_member(member2)\n",
    "library.register_member(member3)\n",
    "library.register_member(member4)"
   ]
  },
  {
   "cell_type": "code",
   "execution_count": 237,
   "metadata": {},
   "outputs": [],
   "source": [
    "# Creating Transaction objects\n",
    "transaction1 = Transaction.create_transaction(book1, member1, True)\n",
    "transaction2 = Transaction.create_transaction(book2, member2, True)\n",
    "transaction3 = Transaction.create_transaction(book1, member1, False)\n",
    "transaction4 = Transaction.create_transaction(book2, member2, False)\n"
   ]
  },
  {
   "cell_type": "code",
   "execution_count": 238,
   "metadata": {},
   "outputs": [
    {
     "name": "stdout",
     "output_type": "stream",
     "text": [
      "Title: Muna Madan, Author: Laxmi Parsad Devkota, ISBN: 984709898092, Available Copies: 100\n",
      "Books: 3, Members: 4\n",
      "Deatails of Member: Name: ABC, Email: abc@gmail.com, Borrowed Books: 0\n",
      "ABC returned Muna Madan on 2023-03-21 16:45:35.207828\n"
     ]
    }
   ],
   "source": [
    "# Printing object details using __str__ method\n",
    "print(book1)\n",
    "print(library)\n",
    "print(\"Deatails of Member:\",member1)\n",
    "print(transaction1)"
   ]
  },
  {
   "cell_type": "code",
   "execution_count": 239,
   "metadata": {},
   "outputs": [
    {
     "data": {
      "text/plain": [
       "'\\n# Printing object details using __repr__ method\\nprint(repr(book1))\\nprint(repr(library))\\nprint(repr(member1))\\nprint(repr(transaction1))\\n'"
      ]
     },
     "execution_count": 239,
     "metadata": {},
     "output_type": "execute_result"
    }
   ],
   "source": [
    "\"\"\"\n",
    "# Printing object details using __repr__ method\n",
    "print(repr(book1))\n",
    "print(repr(library))\n",
    "print(repr(member1))\n",
    "print(repr(transaction1))\n",
    "\"\"\""
   ]
  },
  {
   "cell_type": "code",
   "execution_count": 240,
   "metadata": {},
   "outputs": [
    {
     "name": "stdout",
     "output_type": "stream",
     "text": [
      "Title: Parijaat, Author: Jhamak Kumari Ghimire, ISBN: 98456789845, Available Copies: 300\n",
      "Books: 3, Members: 4\n",
      "Deatails of Member: Name: XYZ, Email: xyz@gmail.com, Borrowed Books: 0\n",
      "XYZ returned Parijaat on 2023-03-21 16:45:35.207828\n"
     ]
    }
   ],
   "source": [
    "# Printing object details using __str__ method\n",
    "print(book2)\n",
    "print(library)\n",
    "print(\"Deatails of Member:\",member2)\n",
    "print(transaction2)"
   ]
  },
  {
   "cell_type": "code",
   "execution_count": 241,
   "metadata": {},
   "outputs": [
    {
     "name": "stdout",
     "output_type": "stream",
     "text": [
      "100\n",
      "300\n",
      "199\n"
     ]
    }
   ],
   "source": [
    "# Testing polymorphism with borrowing and returning transactions\n",
    "transaction4 = Transaction.create_transaction(book3, member1, True)\n",
    "transaction5 = Transaction.create_transaction(book2, member1, False)\n",
    "\n",
    "# Testing property for percentage of available copies remaining\n",
    "print(book1.available_copies)\n",
    "print(book2.available_copies)\n",
    "print(book3.available_copies)\n"
   ]
  },
  {
   "cell_type": "code",
   "execution_count": 242,
   "metadata": {},
   "outputs": [],
   "source": [
    "# Testing inheritance with FictionBook subclass\n",
    "fiction_book = FictionBook(\"Karnali Blues\", \"Buddhi Sagar\", \"9780316769488\", 300, \"Fiction\")\n",
    "non_fiction_book = NonFictionBook(\"Mahako Ma\", \"H.B. Acharya\", \"9780316769488\", 200, \"Autobiography\")\n",
    "textbook = Textbook(\"Comp. Mathematics\", \"D.R. Simkhada\", \"9780316769488\", 500, \"Maths\",\"3rd\")"
   ]
  },
  {
   "cell_type": "code",
   "execution_count": 243,
   "metadata": {},
   "outputs": [],
   "source": [
    "transaction6 = Transaction.create_transaction(fiction_book, member1, True)\n"
   ]
  },
  {
   "cell_type": "code",
   "execution_count": 244,
   "metadata": {},
   "outputs": [
    {
     "data": {
      "text/plain": [
       "299"
      ]
     },
     "execution_count": 244,
     "metadata": {},
     "output_type": "execute_result"
    }
   ],
   "source": [
    "fiction_book.available_copies"
   ]
  },
  {
   "cell_type": "code",
   "execution_count": 245,
   "metadata": {},
   "outputs": [
    {
     "data": {
      "text/plain": [
       "199"
      ]
     },
     "execution_count": 245,
     "metadata": {},
     "output_type": "execute_result"
    }
   ],
   "source": [
    "transaction7 = Transaction.create_transaction(non_fiction_book, member1, True)\n",
    "non_fiction_book.available_copies"
   ]
  },
  {
   "cell_type": "code",
   "execution_count": 246,
   "metadata": {},
   "outputs": [
    {
     "name": "stdout",
     "output_type": "stream",
     "text": [
      "ABC returned Muna Madan on 2023-03-21 16:45:35.207828\n",
      "XYZ returned Parijaat on 2023-03-21 16:45:35.207828\n",
      "ABC returned Muna Madan on 2023-03-21 16:45:35.207828\n",
      "ABC borrowed Summer Love on 2023-03-21 16:45:41.906658\n",
      "ABC returned Parijaat on 2023-03-21 16:45:41.906658\n",
      "ABC borrowed Karnali Blues on 2023-03-21 16:45:43.648199\n",
      "ABC borrowed Mahako Ma on 2023-03-21 16:45:44.969486\n"
     ]
    }
   ],
   "source": [
    "# Testing class method for transactions within date range\n",
    "all_transactions = [transaction1, transaction2, transaction3, transaction4, transaction5, transaction6, transaction7]\n",
    "transactions_within_range = Transaction.transactions_within_date_range(all_transactions, datetime.datetime(2022, 1, 1), datetime.datetime.now())\n",
    "\n",
    "# Printing transactions within date range\n",
    "for transaction in transactions_within_range:\n",
    "    print(transaction)\n",
    "    #print(\"\\n\") \n"
   ]
  },
  {
   "cell_type": "code",
   "execution_count": null,
   "metadata": {},
   "outputs": [],
   "source": []
  }
 ],
 "metadata": {
  "kernelspec": {
   "display_name": "base",
   "language": "python",
   "name": "python3"
  },
  "language_info": {
   "codemirror_mode": {
    "name": "ipython",
    "version": 3
   },
   "file_extension": ".py",
   "mimetype": "text/x-python",
   "name": "python",
   "nbconvert_exporter": "python",
   "pygments_lexer": "ipython3",
   "version": "3.9.13"
  },
  "orig_nbformat": 4
 },
 "nbformat": 4,
 "nbformat_minor": 2
}
